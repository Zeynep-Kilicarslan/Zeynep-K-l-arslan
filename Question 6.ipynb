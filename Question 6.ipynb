{
  "nbformat": 4,
  "nbformat_minor": 0,
  "metadata": {
    "colab": {
      "provenance": []
    },
    "kernelspec": {
      "name": "python3",
      "display_name": "Python 3"
    },
    "language_info": {
      "name": "python"
    }
  },
  "cells": [
    {
      "cell_type": "code",
      "source": [
        "import pandas as pd\n",
        "\n",
        "data = pd.read_csv('daily_vaccinations_imputed.csv')\n",
        "\n",
        "median_of_daily_vaccinations = data.groupby('country')['daily_vaccinations'].median()\n",
        "\n",
        "sort_countries = median_of_daily_vaccinations.sort_values(ascending=False)\n",
        "\n",
        "countries_top_3 = sort_countries.head(3)\n",
        "\n",
        "print(\"Top 3 countries with highest median daily vaccination numbers:\")\n",
        "for i, (country, median) in enumerate(countries_top_3.items(), 1):\n",
        "    print(f\"{i}. {country}: {median} daily vaccinations\")\n"
      ],
      "metadata": {
        "colab": {
          "base_uri": "https://localhost:8080/"
        },
        "id": "wFtQ6oZFaQsi",
        "outputId": "d42df125-ea1b-410c-eae1-99d6bb582b07"
      },
      "execution_count": 10,
      "outputs": [
        {
          "output_type": "stream",
          "name": "stdout",
          "text": [
            "Top 3 countries with highest median daily vaccination numbers:\n",
            "1. United States: 378253.0 daily vaccinations\n",
            "2. China: 276786.0 daily vaccinations\n",
            "3. India: 173922.0 daily vaccinations\n"
          ]
        }
      ]
    }
  ]
}
