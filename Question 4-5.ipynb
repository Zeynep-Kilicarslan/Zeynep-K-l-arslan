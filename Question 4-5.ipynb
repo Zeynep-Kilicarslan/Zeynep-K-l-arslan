{
  "nbformat": 4,
  "nbformat_minor": 0,
  "metadata": {
    "colab": {
      "provenance": []
    },
    "kernelspec": {
      "name": "python3",
      "display_name": "Python 3"
    },
    "language_info": {
      "name": "python"
    }
  },
  "cells": [
    {
      "cell_type": "code",
      "source": [
        "import pandas as pd\n",
        "\n",
        "input_file = 'country_vaccination_stats.csv'\n",
        "data = pd.read_csv(input_file)\n",
        "\n",
        "data['daily_vaccinations'] = data.groupby('country')['daily_vaccinations'].transform(lambda x: x.fillna(x.min()))\n",
        "\n",
        "data['daily_vaccinations'].fillna(0, inplace=True)\n",
        "\n",
        "output_file = 'country_vaccination_stats_updated.csv'\n",
        "data.to_csv(output_file, index=False)\n",
        "\n",
        "print(\"Missing data imputed and saved to\", output_file)\n"
      ],
      "metadata": {
        "colab": {
          "base_uri": "https://localhost:8080/"
        },
        "id": "kFdWLSznSLzy",
        "outputId": "95283e85-588c-442f-b969-973850c4b008"
      },
      "execution_count": 8,
      "outputs": [
        {
          "output_type": "stream",
          "name": "stdout",
          "text": [
            "Missing data imputed and saved to country_vaccination_stats_updated.csv\n"
          ]
        }
      ]
    }
  ]
}
